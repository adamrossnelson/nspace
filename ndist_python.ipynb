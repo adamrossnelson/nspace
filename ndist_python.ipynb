{
 "cells": [
  {
   "cell_type": "code",
   "execution_count": 1,
   "metadata": {},
   "outputs": [],
   "source": [
    "import pandas as pd"
   ]
  },
  {
   "cell_type": "code",
   "execution_count": 32,
   "metadata": {},
   "outputs": [],
   "source": [
    "class ndist:    \n",
    "    # d(p,q) = sqrt(((p1-q1)**2) + ((p2-q2)**2) + ... + ((pn-qn)**2))\n",
    "    def standardize_col(col, mean, sd):\n",
    "        return((col - mean) / sd)\n",
    "    \n",
    "    def dataframe(p,q):\n",
    "        data = {'p':p,'q':q}\n",
    "        data_frame = pd.DataFrame(data)\n",
    "        \n",
    "        mean = data_frame['p'].mean()\n",
    "        sd = data_frame['p'].std()\n",
    "        data_frame['p'] = data_frame['p'].apply(ndist.standardize_col,\n",
    "                                                args=[mean, sd])\n",
    "        \n",
    "        mean = data_frame['q'].mean()\n",
    "        sd = data_frame['q'].std()\n",
    "        data_frame['q'] = data_frame['q'].apply(ndist.standardize_col,\n",
    "                                                args=[mean, sd])\n",
    "        \n",
    "        data_frame['sq_distances'] = (data_frame['p'] - \n",
    "                                      data_frame['q'])**2\n",
    "        data_frame.columns = ['p_normed','q_normed', 'sq_distances']\n",
    "        return(data_frame)\n",
    "    \n",
    "    def distance(p,q):\n",
    "        from math import sqrt\n",
    "        distance = sqrt(ndist.dataframe(p,q)['sq_distances'].sum())\n",
    "        return(distance)\n",
    "    \n",
    "    def dimensions(p,q):\n",
    "        dimensions = len(ndist.dataframe(p,q))\n",
    "        return(dimensions)    "
   ]
  },
  {
   "cell_type": "code",
   "execution_count": 43,
   "metadata": {},
   "outputs": [
    {
     "data": {
      "text/html": [
       "<div>\n",
       "<style scoped>\n",
       "    .dataframe tbody tr th:only-of-type {\n",
       "        vertical-align: middle;\n",
       "    }\n",
       "\n",
       "    .dataframe tbody tr th {\n",
       "        vertical-align: top;\n",
       "    }\n",
       "\n",
       "    .dataframe thead th {\n",
       "        text-align: right;\n",
       "    }\n",
       "</style>\n",
       "<table border=\"1\" class=\"dataframe\">\n",
       "  <thead>\n",
       "    <tr style=\"text-align: right;\">\n",
       "      <th></th>\n",
       "      <th>p_normed</th>\n",
       "      <th>q_normed</th>\n",
       "      <th>sq_distances</th>\n",
       "    </tr>\n",
       "  </thead>\n",
       "  <tbody>\n",
       "    <tr>\n",
       "      <th>0</th>\n",
       "      <td>-0.377964</td>\n",
       "      <td>1.144586</td>\n",
       "      <td>2.318160</td>\n",
       "    </tr>\n",
       "    <tr>\n",
       "      <th>1</th>\n",
       "      <td>-0.755929</td>\n",
       "      <td>-0.704361</td>\n",
       "      <td>0.002659</td>\n",
       "    </tr>\n",
       "    <tr>\n",
       "      <th>2</th>\n",
       "      <td>1.133893</td>\n",
       "      <td>-0.440225</td>\n",
       "      <td>2.477850</td>\n",
       "    </tr>\n",
       "  </tbody>\n",
       "</table>\n",
       "</div>"
      ],
      "text/plain": [
       "   p_normed  q_normed  sq_distances\n",
       "0 -0.377964  1.144586      2.318160\n",
       "1 -0.755929 -0.704361      0.002659\n",
       "2  1.133893 -0.440225      2.477850"
      ]
     },
     "execution_count": 43,
     "metadata": {},
     "output_type": "execute_result"
    }
   ],
   "source": [
    "ndist.dataframe([5,4,9],[18,11,12])"
   ]
  },
  {
   "cell_type": "code",
   "execution_count": 44,
   "metadata": {},
   "outputs": [
    {
     "data": {
      "text/plain": [
       "2.8284271247461903"
      ]
     },
     "execution_count": 44,
     "metadata": {},
     "output_type": "execute_result"
    }
   ],
   "source": [
    "ndist.distance([5,2,9],[5,8,1])"
   ]
  },
  {
   "cell_type": "code",
   "execution_count": 45,
   "metadata": {},
   "outputs": [
    {
     "data": {
      "text/plain": [
       "3"
      ]
     },
     "execution_count": 45,
     "metadata": {},
     "output_type": "execute_result"
    }
   ],
   "source": [
    "ndist.dimensions([5,2,9],[5,8,1])"
   ]
  },
  {
   "cell_type": "code",
   "execution_count": null,
   "metadata": {},
   "outputs": [],
   "source": []
  }
 ],
 "metadata": {
  "kernelspec": {
   "display_name": "Python 3",
   "language": "python",
   "name": "python3"
  },
  "language_info": {
   "codemirror_mode": {
    "name": "ipython",
    "version": 3
   },
   "file_extension": ".py",
   "mimetype": "text/x-python",
   "name": "python",
   "nbconvert_exporter": "python",
   "pygments_lexer": "ipython3",
   "version": "3.6.5"
  }
 },
 "nbformat": 4,
 "nbformat_minor": 2
}
