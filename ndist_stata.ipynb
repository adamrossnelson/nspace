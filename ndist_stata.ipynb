{
 "cells": [
  {
   "cell_type": "code",
   "execution_count": null,
   "metadata": {},
   "outputs": [],
   "source": [
    "set more off\n",
    "clear all"
   ]
  },
  {
   "cell_type": "code",
   "execution_count": null,
   "metadata": {},
   "outputs": [],
   "source": [
    "capture program drop ndist\n",
    "program ndist\n",
    "    syntax varlist(min=2 numeric) [if] [in], center(varname) ofint(varname)\n",
    "\n",
    "    assert `center' != `ofint'  if `center' == `1'\n",
    "    assert `ofint'  != `center' if `ofint'  == `1'\n",
    "\n",
    "    tokenize `varlist'\n",
    "\n",
    "    local nv : word count `varlist'\n",
    "    di `nv'\n",
    "\n",
    "    forvalues nvar = 2/`nv' {\n",
    "        di `nvar'\n",
    "    }\n",
    "end"
   ]
  },
  {
   "cell_type": "code",
   "execution_count": null,
   "metadata": {},
   "outputs": [],
   "source": [
    "sysuse auto, clear\n",
    "gen my_center = _n == 1\n",
    "gen my_int = _n == 10"
   ]
  },
  {
   "cell_type": "code",
   "execution_count": null,
   "metadata": {},
   "outputs": [],
   "source": [
    "ndist length weight mpg price, center(my_center) ofint(my_int)"
   ]
  },
  {
   "cell_type": "code",
   "execution_count": null,
   "metadata": {},
   "outputs": [],
   "source": [
    "tab my_center my_int"
   ]
  },
  {
   "cell_type": "code",
   "execution_count": null,
   "metadata": {},
   "outputs": [],
   "source": [
    "capture program drop ndist\n",
    "program ndist\n",
    "    matrix input p = (5,4,9)\n",
    "    matrix input q = (18,11,12)\n",
    "    matrix diffs = p - q\n",
    "    forval i = 1/`= colsof(diffs)' {\n",
    "        matrix diffs[1, `i'] = diffs[1, `i'] * diffs[1, `i']\n",
    "    }\n",
    "    local sumsof = 0\n",
    "    forval i = 1/`= colsof(diffs)' {\n",
    "        local sumsof = `sumsof' + diffs[1, `i']\n",
    "    }\n",
    "    di sqrt(`sumsof')\n",
    "end"
   ]
  },
  {
   "cell_type": "code",
   "execution_count": null,
   "metadata": {},
   "outputs": [],
   "source": [
    "ndist"
   ]
  },
  {
   "cell_type": "code",
   "execution_count": null,
   "metadata": {},
   "outputs": [],
   "source": []
  },
  {
   "cell_type": "code",
   "execution_count": null,
   "metadata": {},
   "outputs": [],
   "source": []
  }
 ],
 "metadata": {
  "kernelspec": {
   "display_name": "Stata",
   "language": "stata",
   "name": "stata"
  },
  "language_info": {
   "file_extension": ".do",
   "mimetype": "text/x-stata",
   "name": "stata"
  }
 },
 "nbformat": 4,
 "nbformat_minor": 2
}
